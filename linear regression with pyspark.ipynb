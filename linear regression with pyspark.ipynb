{
 "cells": [
  {
   "cell_type": "code",
   "execution_count": 0,
   "metadata": {
    "application/vnd.databricks.v1+cell": {
     "cellMetadata": {
      "byteLimit": 2048000,
      "rowLimit": 10000
     },
     "inputWidgets": {},
     "nuid": "dc09c6be-d7b3-4545-b7b3-99dc514a9f73",
     "showTitle": false,
     "title": ""
    }
   },
   "outputs": [
    {
     "output_type": "stream",
     "name": "stdout",
     "output_type": "stream",
     "text": [
      "+----------+----+------+------+---+------+----+\n|total_bill| tip|   sex|smoker|day|  time|size|\n+----------+----+------+------+---+------+----+\n|     16.99|1.01|Female|    No|Sun|Dinner|   2|\n|     10.34|1.66|  Male|    No|Sun|Dinner|   3|\n|     21.01| 3.5|  Male|    No|Sun|Dinner|   3|\n|     23.68|3.31|  Male|    No|Sun|Dinner|   2|\n|     24.59|3.61|Female|    No|Sun|Dinner|   4|\n|     25.29|4.71|  Male|    No|Sun|Dinner|   4|\n|      8.77| 2.0|  Male|    No|Sun|Dinner|   2|\n|     26.88|3.12|  Male|    No|Sun|Dinner|   4|\n|     15.04|1.96|  Male|    No|Sun|Dinner|   2|\n|     14.78|3.23|  Male|    No|Sun|Dinner|   2|\n|     10.27|1.71|  Male|    No|Sun|Dinner|   2|\n|     35.26| 5.0|Female|    No|Sun|Dinner|   4|\n|     15.42|1.57|  Male|    No|Sun|Dinner|   2|\n|     18.43| 3.0|  Male|    No|Sun|Dinner|   4|\n|     14.83|3.02|Female|    No|Sun|Dinner|   2|\n|     21.58|3.92|  Male|    No|Sun|Dinner|   2|\n|     10.33|1.67|Female|    No|Sun|Dinner|   3|\n|     16.29|3.71|  Male|    No|Sun|Dinner|   3|\n|     16.97| 3.5|Female|    No|Sun|Dinner|   3|\n|     20.65|3.35|  Male|    No|Sat|Dinner|   3|\n+----------+----+------+------+---+------+----+\nonly showing top 20 rows\n\n"
     ]
    }
   ],
   "source": [
    "#file lication and type\n",
    "file_location = \"/FileStore/tables/tips.csv\"\n",
    "file_type = \"csv\"\n",
    "\n",
    "#The applied oPTIONS ARE FOR CSV FILES\n",
    "df = spark.read.csv(file_location,header=True,inferSchema=True)\n",
    "df.show()\n"
   ]
  },
  {
   "cell_type": "code",
   "execution_count": 0,
   "metadata": {
    "application/vnd.databricks.v1+cell": {
     "cellMetadata": {
      "byteLimit": 2048000,
      "rowLimit": 10000
     },
     "inputWidgets": {},
     "nuid": "29e9227a-0689-417c-bb79-4d0712e9d473",
     "showTitle": false,
     "title": ""
    }
   },
   "outputs": [
    {
     "output_type": "stream",
     "name": "stdout",
     "output_type": "stream",
     "text": [
      "root\n |-- total_bill: double (nullable = true)\n |-- tip: double (nullable = true)\n |-- sex: string (nullable = true)\n |-- smoker: string (nullable = true)\n |-- day: string (nullable = true)\n |-- time: string (nullable = true)\n |-- size: integer (nullable = true)\n\n"
     ]
    }
   ],
   "source": [
    "df.printSchema()"
   ]
  },
  {
   "cell_type": "code",
   "execution_count": 0,
   "metadata": {
    "application/vnd.databricks.v1+cell": {
     "cellMetadata": {
      "byteLimit": 2048000,
      "rowLimit": 10000
     },
     "inputWidgets": {},
     "nuid": "b2265fe4-01e3-42eb-a51a-dd361f174048",
     "showTitle": false,
     "title": ""
    }
   },
   "outputs": [
    {
     "output_type": "stream",
     "name": "stdout",
     "output_type": "stream",
     "text": [
      "Out[3]: ['total_bill', 'tip', 'sex', 'smoker', 'day', 'time', 'size']"
     ]
    }
   ],
   "source": [
    "df.columns"
   ]
  },
  {
   "cell_type": "code",
   "execution_count": 0,
   "metadata": {
    "application/vnd.databricks.v1+cell": {
     "cellMetadata": {
      "byteLimit": 2048000,
      "rowLimit": 10000
     },
     "inputWidgets": {},
     "nuid": "a7f2cc11-96a2-4e7c-a7ab-3aee018740fc",
     "showTitle": false,
     "title": ""
    }
   },
   "outputs": [],
   "source": [
    "# handling categorical features\n",
    "from pyspark.ml.feature import StringIndexer\n"
   ]
  },
  {
   "cell_type": "code",
   "execution_count": 0,
   "metadata": {
    "application/vnd.databricks.v1+cell": {
     "cellMetadata": {
      "byteLimit": 2048000,
      "rowLimit": 10000
     },
     "inputWidgets": {},
     "nuid": "0c224aa2-9b44-4a6f-bee1-67152ed9aa12",
     "showTitle": false,
     "title": ""
    }
   },
   "outputs": [
    {
     "output_type": "stream",
     "name": "stdout",
     "output_type": "stream",
     "text": [
      "+----------+----+------+------+---+------+----+-----------+\n|total_bill| tip|   sex|smoker|day|  time|size|sex_indexed|\n+----------+----+------+------+---+------+----+-----------+\n|     16.99|1.01|Female|    No|Sun|Dinner|   2|        1.0|\n|     10.34|1.66|  Male|    No|Sun|Dinner|   3|        0.0|\n|     21.01| 3.5|  Male|    No|Sun|Dinner|   3|        0.0|\n|     23.68|3.31|  Male|    No|Sun|Dinner|   2|        0.0|\n|     24.59|3.61|Female|    No|Sun|Dinner|   4|        1.0|\n|     25.29|4.71|  Male|    No|Sun|Dinner|   4|        0.0|\n|      8.77| 2.0|  Male|    No|Sun|Dinner|   2|        0.0|\n|     26.88|3.12|  Male|    No|Sun|Dinner|   4|        0.0|\n|     15.04|1.96|  Male|    No|Sun|Dinner|   2|        0.0|\n|     14.78|3.23|  Male|    No|Sun|Dinner|   2|        0.0|\n|     10.27|1.71|  Male|    No|Sun|Dinner|   2|        0.0|\n|     35.26| 5.0|Female|    No|Sun|Dinner|   4|        1.0|\n|     15.42|1.57|  Male|    No|Sun|Dinner|   2|        0.0|\n|     18.43| 3.0|  Male|    No|Sun|Dinner|   4|        0.0|\n|     14.83|3.02|Female|    No|Sun|Dinner|   2|        1.0|\n|     21.58|3.92|  Male|    No|Sun|Dinner|   2|        0.0|\n|     10.33|1.67|Female|    No|Sun|Dinner|   3|        1.0|\n|     16.29|3.71|  Male|    No|Sun|Dinner|   3|        0.0|\n|     16.97| 3.5|Female|    No|Sun|Dinner|   3|        1.0|\n|     20.65|3.35|  Male|    No|Sat|Dinner|   3|        0.0|\n+----------+----+------+------+---+------+----+-----------+\nonly showing top 20 rows\n\n"
     ]
    }
   ],
   "source": [
    "indexer=StringIndexer(inputCol=\"sex\", outputCol=\"sex_indexed\")\n",
    "df_r=indexer.fit(df).transform(df)\n",
    "df_r.show()"
   ]
  },
  {
   "cell_type": "code",
   "execution_count": 0,
   "metadata": {
    "application/vnd.databricks.v1+cell": {
     "cellMetadata": {
      "byteLimit": 2048000,
      "rowLimit": 10000
     },
     "inputWidgets": {},
     "nuid": "4d058357-6ad1-4c1d-a0f5-23bfe797a531",
     "showTitle": false,
     "title": ""
    }
   },
   "outputs": [
    {
     "output_type": "stream",
     "name": "stdout",
     "output_type": "stream",
     "text": [
      "+----------+----+------+------+---+------+----+------------+---------+----------+\n|total_bill| tip|   sex|smoker|day|  time|size|smoker_index|day_index|time_index|\n+----------+----+------+------+---+------+----+------------+---------+----------+\n|     16.99|1.01|Female|    No|Sun|Dinner|   2|         0.0|      1.0|       0.0|\n|     10.34|1.66|  Male|    No|Sun|Dinner|   3|         0.0|      1.0|       0.0|\n|     21.01| 3.5|  Male|    No|Sun|Dinner|   3|         0.0|      1.0|       0.0|\n|     23.68|3.31|  Male|    No|Sun|Dinner|   2|         0.0|      1.0|       0.0|\n|     24.59|3.61|Female|    No|Sun|Dinner|   4|         0.0|      1.0|       0.0|\n|     25.29|4.71|  Male|    No|Sun|Dinner|   4|         0.0|      1.0|       0.0|\n|      8.77| 2.0|  Male|    No|Sun|Dinner|   2|         0.0|      1.0|       0.0|\n|     26.88|3.12|  Male|    No|Sun|Dinner|   4|         0.0|      1.0|       0.0|\n|     15.04|1.96|  Male|    No|Sun|Dinner|   2|         0.0|      1.0|       0.0|\n|     14.78|3.23|  Male|    No|Sun|Dinner|   2|         0.0|      1.0|       0.0|\n|     10.27|1.71|  Male|    No|Sun|Dinner|   2|         0.0|      1.0|       0.0|\n|     35.26| 5.0|Female|    No|Sun|Dinner|   4|         0.0|      1.0|       0.0|\n|     15.42|1.57|  Male|    No|Sun|Dinner|   2|         0.0|      1.0|       0.0|\n|     18.43| 3.0|  Male|    No|Sun|Dinner|   4|         0.0|      1.0|       0.0|\n|     14.83|3.02|Female|    No|Sun|Dinner|   2|         0.0|      1.0|       0.0|\n|     21.58|3.92|  Male|    No|Sun|Dinner|   2|         0.0|      1.0|       0.0|\n|     10.33|1.67|Female|    No|Sun|Dinner|   3|         0.0|      1.0|       0.0|\n|     16.29|3.71|  Male|    No|Sun|Dinner|   3|         0.0|      1.0|       0.0|\n|     16.97| 3.5|Female|    No|Sun|Dinner|   3|         0.0|      1.0|       0.0|\n|     20.65|3.35|  Male|    No|Sat|Dinner|   3|         0.0|      0.0|       0.0|\n+----------+----+------+------+---+------+----+------------+---------+----------+\nonly showing top 20 rows\n\n"
     ]
    }
   ],
   "source": [
    "indexer=StringIndexer(inputCols=[\"smoker\",\"day\",\"time\"],outputCols=[\"smoker_index\",\"day_index\",\"time_index\"])\n",
    "df_r=indexer.fit(df).transform(df)\n",
    "df_r.show()"
   ]
  },
  {
   "cell_type": "code",
   "execution_count": 0,
   "metadata": {
    "application/vnd.databricks.v1+cell": {
     "cellMetadata": {
      "byteLimit": 2048000,
      "rowLimit": 10000
     },
     "inputWidgets": {},
     "nuid": "4ffd0da0-d277-457c-8952-50a3c551f172",
     "showTitle": false,
     "title": ""
    }
   },
   "outputs": [
    {
     "output_type": "stream",
     "name": "stdout",
     "output_type": "stream",
     "text": [
      "Out[7]: ['total_bill',\n 'tip',\n 'sex',\n 'smoker',\n 'day',\n 'time',\n 'size',\n 'smoker_index',\n 'day_index',\n 'time_index']"
     ]
    }
   ],
   "source": [
    "df_r.columns"
   ]
  },
  {
   "cell_type": "code",
   "execution_count": 0,
   "metadata": {
    "application/vnd.databricks.v1+cell": {
     "cellMetadata": {
      "byteLimit": 2048000,
      "rowLimit": 10000
     },
     "inputWidgets": {},
     "nuid": "a2677b78-0e58-4d77-a2df-8692cfbd55c9",
     "showTitle": false,
     "title": ""
    }
   },
   "outputs": [],
   "source": [
    "from pyspark.ml.feature import VectorAssembler\n",
    "featureassembler=VectorAssembler(inputCols=[ 'tip','size','smoker_index','day_index','time_index'],outputCol=\"Independent Features\")\n",
    "output=featureassembler.transform(df_r)\n"
   ]
  },
  {
   "cell_type": "code",
   "execution_count": 0,
   "metadata": {
    "application/vnd.databricks.v1+cell": {
     "cellMetadata": {
      "byteLimit": 2048000,
      "rowLimit": 10000
     },
     "inputWidgets": {},
     "nuid": "8f5fea97-066e-4e53-afad-5d63c95815e3",
     "showTitle": false,
     "title": ""
    }
   },
   "outputs": [
    {
     "output_type": "stream",
     "name": "stdout",
     "output_type": "stream",
     "text": [
      "+----------+----+------+------+---+------+----+------------+---------+----------+--------------------+\n|total_bill| tip|   sex|smoker|day|  time|size|smoker_index|day_index|time_index|Independent Features|\n+----------+----+------+------+---+------+----+------------+---------+----------+--------------------+\n|     16.99|1.01|Female|    No|Sun|Dinner|   2|         0.0|      1.0|       0.0|[1.01,2.0,0.0,1.0...|\n|     10.34|1.66|  Male|    No|Sun|Dinner|   3|         0.0|      1.0|       0.0|[1.66,3.0,0.0,1.0...|\n|     21.01| 3.5|  Male|    No|Sun|Dinner|   3|         0.0|      1.0|       0.0|[3.5,3.0,0.0,1.0,...|\n|     23.68|3.31|  Male|    No|Sun|Dinner|   2|         0.0|      1.0|       0.0|[3.31,2.0,0.0,1.0...|\n|     24.59|3.61|Female|    No|Sun|Dinner|   4|         0.0|      1.0|       0.0|[3.61,4.0,0.0,1.0...|\n|     25.29|4.71|  Male|    No|Sun|Dinner|   4|         0.0|      1.0|       0.0|[4.71,4.0,0.0,1.0...|\n|      8.77| 2.0|  Male|    No|Sun|Dinner|   2|         0.0|      1.0|       0.0|[2.0,2.0,0.0,1.0,...|\n|     26.88|3.12|  Male|    No|Sun|Dinner|   4|         0.0|      1.0|       0.0|[3.12,4.0,0.0,1.0...|\n|     15.04|1.96|  Male|    No|Sun|Dinner|   2|         0.0|      1.0|       0.0|[1.96,2.0,0.0,1.0...|\n|     14.78|3.23|  Male|    No|Sun|Dinner|   2|         0.0|      1.0|       0.0|[3.23,2.0,0.0,1.0...|\n|     10.27|1.71|  Male|    No|Sun|Dinner|   2|         0.0|      1.0|       0.0|[1.71,2.0,0.0,1.0...|\n|     35.26| 5.0|Female|    No|Sun|Dinner|   4|         0.0|      1.0|       0.0|[5.0,4.0,0.0,1.0,...|\n|     15.42|1.57|  Male|    No|Sun|Dinner|   2|         0.0|      1.0|       0.0|[1.57,2.0,0.0,1.0...|\n|     18.43| 3.0|  Male|    No|Sun|Dinner|   4|         0.0|      1.0|       0.0|[3.0,4.0,0.0,1.0,...|\n|     14.83|3.02|Female|    No|Sun|Dinner|   2|         0.0|      1.0|       0.0|[3.02,2.0,0.0,1.0...|\n|     21.58|3.92|  Male|    No|Sun|Dinner|   2|         0.0|      1.0|       0.0|[3.92,2.0,0.0,1.0...|\n|     10.33|1.67|Female|    No|Sun|Dinner|   3|         0.0|      1.0|       0.0|[1.67,3.0,0.0,1.0...|\n|     16.29|3.71|  Male|    No|Sun|Dinner|   3|         0.0|      1.0|       0.0|[3.71,3.0,0.0,1.0...|\n|     16.97| 3.5|Female|    No|Sun|Dinner|   3|         0.0|      1.0|       0.0|[3.5,3.0,0.0,1.0,...|\n|     20.65|3.35|  Male|    No|Sat|Dinner|   3|         0.0|      0.0|       0.0|(5,[0,1],[3.35,3.0])|\n+----------+----+------+------+---+------+----+------------+---------+----------+--------------------+\nonly showing top 20 rows\n\n"
     ]
    }
   ],
   "source": [
    "output.show()"
   ]
  },
  {
   "cell_type": "code",
   "execution_count": 0,
   "metadata": {
    "application/vnd.databricks.v1+cell": {
     "cellMetadata": {
      "byteLimit": 2048000,
      "rowLimit": 10000
     },
     "inputWidgets": {},
     "nuid": "0fd09cfe-515f-4ab7-b266-43f2b23f73c3",
     "showTitle": false,
     "title": ""
    }
   },
   "outputs": [
    {
     "output_type": "stream",
     "name": "stdout",
     "output_type": "stream",
     "text": [
      "+--------------------+\n|Independent Features|\n+--------------------+\n|[1.01,2.0,0.0,1.0...|\n|[1.66,3.0,0.0,1.0...|\n|[3.5,3.0,0.0,1.0,...|\n|[3.31,2.0,0.0,1.0...|\n|[3.61,4.0,0.0,1.0...|\n|[4.71,4.0,0.0,1.0...|\n|[2.0,2.0,0.0,1.0,...|\n|[3.12,4.0,0.0,1.0...|\n|[1.96,2.0,0.0,1.0...|\n|[3.23,2.0,0.0,1.0...|\n|[1.71,2.0,0.0,1.0...|\n|[5.0,4.0,0.0,1.0,...|\n|[1.57,2.0,0.0,1.0...|\n|[3.0,4.0,0.0,1.0,...|\n|[3.02,2.0,0.0,1.0...|\n|[3.92,2.0,0.0,1.0...|\n|[1.67,3.0,0.0,1.0...|\n|[3.71,3.0,0.0,1.0...|\n|[3.5,3.0,0.0,1.0,...|\n|(5,[0,1],[3.35,3.0])|\n+--------------------+\nonly showing top 20 rows\n\n"
     ]
    }
   ],
   "source": [
    "output.select('Independent Features').show()"
   ]
  },
  {
   "cell_type": "code",
   "execution_count": 0,
   "metadata": {
    "application/vnd.databricks.v1+cell": {
     "cellMetadata": {
      "byteLimit": 2048000,
      "rowLimit": 10000
     },
     "inputWidgets": {},
     "nuid": "f14e76d4-cf8c-43a1-b37a-c78339f30aa0",
     "showTitle": false,
     "title": ""
    }
   },
   "outputs": [
    {
     "output_type": "stream",
     "name": "stdout",
     "output_type": "stream",
     "text": [
      "+----------+----+------+------+---+------+----+------------+---------+----------+--------------------+\n|total_bill| tip|   sex|smoker|day|  time|size|smoker_index|day_index|time_index|Independent Features|\n+----------+----+------+------+---+------+----+------------+---------+----------+--------------------+\n|     16.99|1.01|Female|    No|Sun|Dinner|   2|         0.0|      1.0|       0.0|[1.01,2.0,0.0,1.0...|\n|     10.34|1.66|  Male|    No|Sun|Dinner|   3|         0.0|      1.0|       0.0|[1.66,3.0,0.0,1.0...|\n|     21.01| 3.5|  Male|    No|Sun|Dinner|   3|         0.0|      1.0|       0.0|[3.5,3.0,0.0,1.0,...|\n|     23.68|3.31|  Male|    No|Sun|Dinner|   2|         0.0|      1.0|       0.0|[3.31,2.0,0.0,1.0...|\n|     24.59|3.61|Female|    No|Sun|Dinner|   4|         0.0|      1.0|       0.0|[3.61,4.0,0.0,1.0...|\n|     25.29|4.71|  Male|    No|Sun|Dinner|   4|         0.0|      1.0|       0.0|[4.71,4.0,0.0,1.0...|\n|      8.77| 2.0|  Male|    No|Sun|Dinner|   2|         0.0|      1.0|       0.0|[2.0,2.0,0.0,1.0,...|\n|     26.88|3.12|  Male|    No|Sun|Dinner|   4|         0.0|      1.0|       0.0|[3.12,4.0,0.0,1.0...|\n|     15.04|1.96|  Male|    No|Sun|Dinner|   2|         0.0|      1.0|       0.0|[1.96,2.0,0.0,1.0...|\n|     14.78|3.23|  Male|    No|Sun|Dinner|   2|         0.0|      1.0|       0.0|[3.23,2.0,0.0,1.0...|\n|     10.27|1.71|  Male|    No|Sun|Dinner|   2|         0.0|      1.0|       0.0|[1.71,2.0,0.0,1.0...|\n|     35.26| 5.0|Female|    No|Sun|Dinner|   4|         0.0|      1.0|       0.0|[5.0,4.0,0.0,1.0,...|\n|     15.42|1.57|  Male|    No|Sun|Dinner|   2|         0.0|      1.0|       0.0|[1.57,2.0,0.0,1.0...|\n|     18.43| 3.0|  Male|    No|Sun|Dinner|   4|         0.0|      1.0|       0.0|[3.0,4.0,0.0,1.0,...|\n|     14.83|3.02|Female|    No|Sun|Dinner|   2|         0.0|      1.0|       0.0|[3.02,2.0,0.0,1.0...|\n|     21.58|3.92|  Male|    No|Sun|Dinner|   2|         0.0|      1.0|       0.0|[3.92,2.0,0.0,1.0...|\n|     10.33|1.67|Female|    No|Sun|Dinner|   3|         0.0|      1.0|       0.0|[1.67,3.0,0.0,1.0...|\n|     16.29|3.71|  Male|    No|Sun|Dinner|   3|         0.0|      1.0|       0.0|[3.71,3.0,0.0,1.0...|\n|     16.97| 3.5|Female|    No|Sun|Dinner|   3|         0.0|      1.0|       0.0|[3.5,3.0,0.0,1.0,...|\n|     20.65|3.35|  Male|    No|Sat|Dinner|   3|         0.0|      0.0|       0.0|(5,[0,1],[3.35,3.0])|\n+----------+----+------+------+---+------+----+------------+---------+----------+--------------------+\nonly showing top 20 rows\n\n"
     ]
    }
   ],
   "source": [
    "output.show()"
   ]
  },
  {
   "cell_type": "code",
   "execution_count": 0,
   "metadata": {
    "application/vnd.databricks.v1+cell": {
     "cellMetadata": {
      "byteLimit": 2048000,
      "rowLimit": 10000
     },
     "inputWidgets": {},
     "nuid": "0d805c78-24f3-4851-a099-24120d91e2e0",
     "showTitle": false,
     "title": ""
    }
   },
   "outputs": [],
   "source": [
    "finalized_data=output.select(\"Independent Features\",\"total_bill\")\n"
   ]
  },
  {
   "cell_type": "code",
   "execution_count": 0,
   "metadata": {
    "application/vnd.databricks.v1+cell": {
     "cellMetadata": {
      "byteLimit": 2048000,
      "rowLimit": 10000
     },
     "inputWidgets": {},
     "nuid": "89039905-e4dd-4944-b641-fbc5b783434e",
     "showTitle": false,
     "title": ""
    }
   },
   "outputs": [
    {
     "output_type": "stream",
     "name": "stdout",
     "output_type": "stream",
     "text": [
      "+--------------------+----------+\n|Independent Features|total_bill|\n+--------------------+----------+\n|[1.01,2.0,0.0,1.0...|     16.99|\n|[1.66,3.0,0.0,1.0...|     10.34|\n|[3.5,3.0,0.0,1.0,...|     21.01|\n|[3.31,2.0,0.0,1.0...|     23.68|\n|[3.61,4.0,0.0,1.0...|     24.59|\n|[4.71,4.0,0.0,1.0...|     25.29|\n|[2.0,2.0,0.0,1.0,...|      8.77|\n|[3.12,4.0,0.0,1.0...|     26.88|\n|[1.96,2.0,0.0,1.0...|     15.04|\n|[3.23,2.0,0.0,1.0...|     14.78|\n|[1.71,2.0,0.0,1.0...|     10.27|\n|[5.0,4.0,0.0,1.0,...|     35.26|\n|[1.57,2.0,0.0,1.0...|     15.42|\n|[3.0,4.0,0.0,1.0,...|     18.43|\n|[3.02,2.0,0.0,1.0...|     14.83|\n|[3.92,2.0,0.0,1.0...|     21.58|\n|[1.67,3.0,0.0,1.0...|     10.33|\n|[3.71,3.0,0.0,1.0...|     16.29|\n|[3.5,3.0,0.0,1.0,...|     16.97|\n|(5,[0,1],[3.35,3.0])|     20.65|\n+--------------------+----------+\nonly showing top 20 rows\n\n"
     ]
    }
   ],
   "source": [
    "finalized_data.show()"
   ]
  },
  {
   "cell_type": "code",
   "execution_count": 0,
   "metadata": {
    "application/vnd.databricks.v1+cell": {
     "cellMetadata": {
      "byteLimit": 2048000,
      "rowLimit": 10000
     },
     "inputWidgets": {},
     "nuid": "a1b14b2c-7038-49da-99bd-5c09d90d8ea4",
     "showTitle": false,
     "title": ""
    }
   },
   "outputs": [],
   "source": [
    "from pyspark.ml.regression import LinearRegression\n",
    "\n",
    "#training the test splits\n",
    "train_data,test_data = finalized_data.randomSplit([0.75,0.25])\n",
    "regressor = LinearRegression(featuresCol='Independent Features', labelCol='total_bill')\n",
    "regressor=regressor.fit(train_data)\n"
   ]
  },
  {
   "cell_type": "code",
   "execution_count": 0,
   "metadata": {
    "application/vnd.databricks.v1+cell": {
     "cellMetadata": {
      "byteLimit": 2048000,
      "rowLimit": 10000
     },
     "inputWidgets": {},
     "nuid": "d81d14d3-a6c3-4024-a3c8-717e97e2320f",
     "showTitle": false,
     "title": ""
    }
   },
   "outputs": [
    {
     "output_type": "stream",
     "name": "stdout",
     "output_type": "stream",
     "text": [
      "Out[20]: DenseVector([3.4072, 3.1871, 1.9388, 0.068, -1.4838])"
     ]
    }
   ],
   "source": [
    "regressor.coefficients"
   ]
  },
  {
   "cell_type": "code",
   "execution_count": 0,
   "metadata": {
    "application/vnd.databricks.v1+cell": {
     "cellMetadata": {
      "byteLimit": 2048000,
      "rowLimit": 10000
     },
     "inputWidgets": {},
     "nuid": "ec85ad53-ba7b-451c-a246-4e34958fb07b",
     "showTitle": false,
     "title": ""
    }
   },
   "outputs": [
    {
     "output_type": "stream",
     "name": "stdout",
     "output_type": "stream",
     "text": [
      "Out[21]: 0.7214929202330785"
     ]
    }
   ],
   "source": [
    "regressor.intercept"
   ]
  },
  {
   "cell_type": "code",
   "execution_count": 0,
   "metadata": {
    "application/vnd.databricks.v1+cell": {
     "cellMetadata": {
      "byteLimit": 2048000,
      "rowLimit": 10000
     },
     "inputWidgets": {},
     "nuid": "44c75e6e-a210-4083-a1d2-008761420823",
     "showTitle": false,
     "title": ""
    }
   },
   "outputs": [],
   "source": [
    "pred_results = regressor.evaluate(test_data)"
   ]
  },
  {
   "cell_type": "code",
   "execution_count": 0,
   "metadata": {
    "application/vnd.databricks.v1+cell": {
     "cellMetadata": {
      "byteLimit": 2048000,
      "rowLimit": 10000
     },
     "inputWidgets": {},
     "nuid": "ba5b3027-7341-4d58-b863-a1f920d4cda0",
     "showTitle": false,
     "title": ""
    }
   },
   "outputs": [
    {
     "output_type": "stream",
     "name": "stdout",
     "output_type": "stream",
     "text": [
      "+--------------------+----------+------------------+\n|Independent Features|total_bill|        prediction|\n+--------------------+----------+------------------+\n|(5,[0,1],[1.25,2.0])|     10.51|11.354672206317582|\n|(5,[0,1],[1.97,2.0])|     12.02|13.807881214680847|\n|(5,[0,1],[2.34,4.0])|     17.81|21.442693934988025|\n|(5,[0,1],[2.64,3.0])|     17.59|19.277796420745805|\n|(5,[0,1],[2.75,2.0])|     20.29|16.465524307074386|\n| (5,[0,1],[3.0,2.0])|      14.0|17.317332990533853|\n| (5,[0,1],[3.0,2.0])|     19.65|17.317332990533853|\n| (5,[0,1],[3.0,4.0])|     20.45| 23.69146885932102|\n|(5,[0,1],[3.27,2.0])|     17.78|18.237286368670077|\n|(5,[0,1],[3.35,3.0])|     20.65| 21.69693308177069|\n|(5,[0,1],[3.39,2.0])|     11.61| 18.64615453673062|\n| (5,[0,1],[3.6,3.0])|     24.06|22.548741765230158|\n|(5,[0,1],[4.67,3.0])|     35.83|26.194482930436674|\n|(5,[0,1],[6.73,4.0])|     48.27| 36.40045441653626|\n|[1.1,2.0,1.0,0.0,...|      12.9|12.782405340325337|\n|[1.17,2.0,1.0,0.0...|     32.83|13.020911771693987|\n|[1.44,2.0,0.0,2.0...|      7.56|10.654169005456058|\n|[1.44,2.0,1.0,0.0...|      7.74|13.940865149830211|\n|[1.5,2.0,0.0,2.0,...|     19.08|10.858603089486333|\n|[1.64,2.0,1.0,0.0...|     15.36|14.622312096597787|\n+--------------------+----------+------------------+\nonly showing top 20 rows\n\n"
     ]
    }
   ],
   "source": [
    "#final comaprision\n",
    "pred_results.predictions.show()"
   ]
  },
  {
   "cell_type": "code",
   "execution_count": 0,
   "metadata": {
    "application/vnd.databricks.v1+cell": {
     "cellMetadata": {
      "byteLimit": 2048000,
      "rowLimit": 10000
     },
     "inputWidgets": {},
     "nuid": "438cdd45-999e-4571-bced-2931024e39b3",
     "showTitle": false,
     "title": ""
    }
   },
   "outputs": [
    {
     "output_type": "stream",
     "name": "stdout",
     "output_type": "stream",
     "text": [
      "Out[24]: (0.40970031317638744, 4.919881946899004, 45.704327287944416)"
     ]
    }
   ],
   "source": [
    "pred_results.r2, pred_results.meanAbsoluteError, pred_results.meanSquaredError"
   ]
  }
 ],
 "metadata": {
  "application/vnd.databricks.v1+notebook": {
   "dashboards": [],
   "environmentMetadata": null,
   "language": "python",
   "notebookMetadata": {
    "pythonIndentUnit": 4
   },
   "notebookName": "linear regression with pyspark",
   "widgets": {}
  }
 },
 "nbformat": 4,
 "nbformat_minor": 0
}
